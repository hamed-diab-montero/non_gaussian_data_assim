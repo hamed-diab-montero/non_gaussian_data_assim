{
 "cells": [
  {
   "cell_type": "code",
   "execution_count": 1,
   "id": "9a419090",
   "metadata": {},
   "outputs": [],
   "source": [
    "# Math libraries\n",
    "import numpy as np\n",
    "import random\n",
    "from scipy.linalg import sqrtm\n",
    "from scipy.stats import multivariate_normal\n",
    "from scipy.integrate import odeint\n",
    "from numpy.linalg import inv\n",
    "\n",
    "# I/O libraries\n",
    "import os\n",
    "import scipy.io as sio\n",
    "\n",
    "# Graphical Libraries\n",
    "import seaborn as sns\n",
    "import matplotlib.pyplot as plt\n",
    "from mpl_toolkits.mplot3d import Axes3D\n",
    "from matplotlib.gridspec import GridSpec"
   ]
  },
  {
   "cell_type": "code",
   "execution_count": 2,
   "id": "0adeaf0f",
   "metadata": {},
   "outputs": [],
   "source": [
    "def H_linear(X):\n",
    "    ''' Calculates the observation operator for linear observations.\n",
    "      \n",
    "      ***INPUT***:\n",
    "         X : ensemble in state space (size: [# state variable in inner domain * # of ens member])\n",
    "      ***OUTPUT***:\n",
    "         Hx: ensemble in the observation space (size: [# of ens member])\n",
    "     '''\n",
    "\n",
    "    Hx = X;\n",
    "    \n",
    "    return Hx;\n",
    "\n",
    "def H_linear_adjoint(X):\n",
    "    \n",
    "    ''' Subroutine for the adjoint of the observation operator (analytical solution) for \"one observation\"\n",
    "        \n",
    "        ***INPUT***\n",
    "           X : ensemble in state space (size: [# state variable in inner domain * # of ens member])\n",
    "        ***OUTPUT***\n",
    "           dHdx: adjoint (size: [# state variable in inner domain * # of ens member])\n",
    "    '''\n",
    "    \n",
    "    dim_inner=X.shape[0]\n",
    "    n_mem=X.shape[1]\n",
    "    \n",
    "    dHdx=np.ones((dim_inner,n_mem))\n",
    "    \n",
    "    return dHdx;\n"
   ]
  },
  {
   "cell_type": "code",
   "execution_count": 3,
   "id": "3c3056d2",
   "metadata": {},
   "outputs": [],
   "source": [
    "#----------------------------------------------\n",
    "#   FUNCTIONS\n",
    "#----------------------------------------------\n",
    "\n",
    "def h_operator(nx,obs_vect):\n",
    "    \n",
    "    #nx=len(obs_vect)\n",
    "    index_obs=np.where(obs_vect>-999)[0]\n",
    "    num_obs=len(index_obs)\n",
    "    \n",
    "    h_matrix=np.zeros((num_obs,nx))\n",
    "    for i in range(num_obs):\n",
    "        h_matrix[i,index_obs[i]]=1\n",
    "        \n",
    "    return h_matrix"
   ]
  },
  {
   "cell_type": "code",
   "execution_count": 4,
   "id": "90c30481",
   "metadata": {},
   "outputs": [],
   "source": [
    "# def L63_RK4(rho, sigma, beta, initV, tint, tstep):"
   ]
  },
  {
   "cell_type": "code",
   "execution_count": 5,
   "id": "1a5be319",
   "metadata": {},
   "outputs": [],
   "source": [
    "# NOTE: There are problems in this calculation because a variable\n",
    "# and a function have the same names\n",
    "def grad_log_post(H,R,R_inv,y,y_i,B,x_s_i,x0_mean):\n",
    "    #obs_part=(H.transpose()).dot(R_inv).dot(y-y_i)[:,0]\n",
    "    obs_part=B.dot(H.transpose()).dot(R_inv).dot(y-y_i)[:,0]\n",
    "    #prior_part=B_inv.dot(x_s_i-x0_mean)\n",
    "    prior_part=x_s_i-x0_mean\n",
    "    grad_log_post_est=obs_part-prior_part\n",
    "    #return grad_log_post_est,obs_part,prior_part;\n",
    "    return grad_log_post_est;"
   ]
  },
  {
   "cell_type": "code",
   "execution_count": 6,
   "id": "3b50cd64",
   "metadata": {},
   "outputs": [],
   "source": [
    "# Version 1\n",
    "\n",
    "def L96_RK4(X, dt, F):\n",
    "    # integrate for L96 model using RK4\n",
    "    # X is the input, dt is the time resolution\n",
    "    # X_out is the output\n",
    "\n",
    "    dim = len(X)\n",
    "    k1 = np.zeros(dim)\n",
    "    k2 = np.zeros(dim)\n",
    "    k3 = np.zeros(dim)\n",
    "    k4 = np.zeros(dim)\n",
    "    X_out = np.zeros(dim)\n",
    "\n",
    "    # parameter for the model\n",
    "    # F = 8;\n",
    "\n",
    "    tmp_b = X.copy()  # before integration\n",
    "    \n",
    "    X_p1 = np.concatenate((tmp_b[1:], [tmp_b[0]]))\n",
    "    X_00 = tmp_b\n",
    "    X_n1 = np.concatenate(([tmp_b[-1]], tmp_b[:-1]))\n",
    "    X_n2 = np.concatenate((tmp_b[-2:], tmp_b[:-2]))\n",
    "    \n",
    "    k1 = (X_p1 - X_n2) * X_n1 - X_00 + F\n",
    "    \n",
    "    tmp_b = X + 0.5 * k1 * dt\n",
    "    X_p1 = np.concatenate((tmp_b[1:], [tmp_b[0]]))\n",
    "    X_00 = tmp_b\n",
    "    X_n1 = np.concatenate(([tmp_b[-1]], tmp_b[:-1]))\n",
    "    X_n2 = np.concatenate((tmp_b[-2:], tmp_b[:-2]))\n",
    "    \n",
    "    k2 = (X_p1 - X_n2) * X_n1 - X_00 + F\n",
    "    \n",
    "    tmp_b = X + 0.5 * k2 * dt\n",
    "    X_p1 = np.concatenate((tmp_b[1:], [tmp_b[0]]))\n",
    "    X_00 = tmp_b\n",
    "    X_n1 = np.concatenate(([tmp_b[-1]], tmp_b[:-1]))\n",
    "    X_n2 = np.concatenate((tmp_b[-2:], tmp_b[:-2]))\n",
    "    \n",
    "    k3 = (X_p1 - X_n2) * X_n1 - X_00 + F\n",
    "    \n",
    "    tmp_b = X + k3 * dt\n",
    "    X_p1 = np.concatenate((tmp_b[1:], [tmp_b[0]]))\n",
    "    X_00 = tmp_b\n",
    "    X_n1 = np.concatenate(([tmp_b[-1]], tmp_b[:-1]))\n",
    "    X_n2 = np.concatenate((tmp_b[-2:], tmp_b[:-2]))\n",
    "    \n",
    "    k4 = (X_p1 - X_n2) * X_n1 - X_00 + F\n",
    "    \n",
    "    X_out = X + (dt / 6) * (k1 + 2 * k2 + 2 * k3 + k4)\n",
    "\n",
    "    return X_out\n"
   ]
  },
  {
   "cell_type": "code",
   "execution_count": 7,
   "id": "cc61be22",
   "metadata": {},
   "outputs": [],
   "source": [
    "def calc_X(X):\n",
    "    # Calculate X_p1, X_00, X_n1, and X_n2\n",
    "    X_p1 = np.roll(X, -1, axis=0)\n",
    "    X_00 = X.copy()\n",
    "    X_n1 = np.roll(X, 1, axis=0)\n",
    "    X_n2 = np.roll(X, 2, axis=0)\n",
    "    return X_p1, X_00, X_n1, X_n2\n",
    "\n",
    "def L96_RK4_ensemble(X_in, dt, F):\n",
    "    \"\"\"\n",
    "    Integrate the Lorenz 96 model using RK4 for an ensemble of n_mem members\n",
    "    \n",
    "    Parameters:\n",
    "    -----------\n",
    "    X_in: numpy.ndarray\n",
    "        Input array of shape (dim, n_mem)\n",
    "    dt: float\n",
    "        Time resolution\n",
    "    F: float\n",
    "        Parameter for the model\n",
    "    \n",
    "    Returns:\n",
    "    --------\n",
    "    X_out: numpy.ndarray\n",
    "        Array of shape (dim, n_mem) containing the output of the integration\n",
    "    \"\"\"\n",
    "    dim, n_mem = X_in.shape\n",
    "    k1 = np.zeros((dim, n_mem))\n",
    "    k2 = np.zeros((dim, n_mem))\n",
    "    k3 = np.zeros((dim, n_mem))\n",
    "    k4 = np.zeros((dim, n_mem))\n",
    "    X_out = np.zeros((dim, n_mem))\n",
    "\n",
    "    tmp_b = X_in.copy()  # before integration\n",
    "    \n",
    "    X_p1, X_00, X_n1, X_n2 = calc_X(tmp_b)\n",
    "\n",
    "    # Calculate k1\n",
    "    k1 = (X_p1 - X_n2) * X_n1 - X_00 + F\n",
    "\n",
    "    tmp_b2 = X_in + 0.5 * k1 * dt\n",
    "    X_p1, X_00, X_n1, X_n2 = calc_X(tmp_b2)\n",
    "\n",
    "    # Calculate k2\n",
    "    k2 = (X_p1 - X_n2) * X_n1 - X_00 + F\n",
    "\n",
    "    tmp_b3 = X_in + 0.5 * k2 * dt\n",
    "    X_p1, X_00, X_n1, X_n2 = calc_X(tmp_b3)\n",
    "\n",
    "    # Calculate k3\n",
    "    k3 = (X_p1 - X_n2) * X_n1 - X_00 + F\n",
    "\n",
    "    tmp_b4 = X_in + k3 * dt\n",
    "    X_p1, X_00, X_n1, X_n2 = calc_X(tmp_b4)\n",
    "\n",
    "    # Calculate k4\n",
    "    k4 = (X_p1 - X_n2) * X_n1 - X_00 + F\n",
    "\n",
    "    X_out = X_in + (dt / 6) * (k1 + 2 * k2 + 2 * k3 + k4)\n",
    "\n",
    "    return X_out\n"
   ]
  },
  {
   "cell_type": "code",
   "execution_count": 8,
   "id": "02a1ba10",
   "metadata": {},
   "outputs": [],
   "source": [
    "def pff(n_mem,n_states,ensemble,obs_vect,r_obs,index_obs):\n",
    "    \n",
    "    B=np.cov(ensemble)\n",
    "    x0_mean=np.mean(ensemble,axis=1)\n",
    "    \n",
    "    \n",
    "    # ------------------------\n",
    "    # Localization\n",
    "    # ------------------------\n",
    "    r_influ=2\n",
    "    tmp = np.zeros((n_states, n_states))\n",
    "    for i in range(1, 3*r_influ+1):\n",
    "        tmp += np.diag(np.ones(n_states-i), i) + np.diag(np.ones(n_states-i), -i) + \\\n",
    "               np.diag(np.ones(i),n_states-i) + np.diag(np.ones(i), -(n_states-i))\n",
    "        tmp *= np.exp(-i**2 / r_influ**2)\n",
    "    mask = tmp + np.diag(np.ones(n_states))\n",
    "    B=np.multiply(B,mask)\n",
    "    #------------------------\n",
    "    \n",
    "    # Pseudo-time flow\n",
    "    s=0\n",
    "    max_s=100\n",
    "    #ds=0.1\n",
    "    ds=0.05;\n",
    "    alpha=0.05; #Tuning parameter for the covariance of the kernel\n",
    "\n",
    "    x_s=np.zeros((n_states,n_mem),order='F');\n",
    "    x_s=ensemble.copy()\n",
    "\n",
    "    kernel=np.zeros((n_states,n_mem,n_mem),order='F')\n",
    "    dkdx=np.zeros((n_states,n_mem,n_mem),order='F')\n",
    "\n",
    "    # Pseudoflow \n",
    "    python_pseudoflow=np.zeros((n_states,n_mem,max_s+1))\n",
    "    python_pseudoflow[:,:,0]=x_s.copy()\n",
    "\n",
    "    # Pseudo time for data assimilation\n",
    "    while s < max_s:\n",
    "\n",
    "        H    = np.zeros((n_obs, n_states));        # the ensemble in obs space \n",
    "        Hx   = np.zeros((n_obs, n_mem));           # the ensemble in obs space \n",
    "        dHdx = np.zeros((n_obs, n_states, n_mem)); # the adjoint of obs operator    \n",
    "\n",
    "        gradient_posterior=np.zeros((n_states,n_mem))\n",
    "        dpdx=np.zeros((n_states,n_mem))\n",
    "\n",
    "        # Observation Operator\n",
    "        for i in range(n_mem):\n",
    "\n",
    "            H=h_operator(n_states,obs_vect)\n",
    "            \n",
    "            #x_s[:,i]=python_pseudoflow[:,i,s]\n",
    "            #Hx[:,i]=np.ones((n_obs,1))[:,0] \n",
    "            #Hx[0,:]=x_s[10,:]\n",
    "            #Hx[1,:]=x_s[511,:]\n",
    "            Hx[:,:]=x_s[index_obs,:]\n",
    "#             Hx[1,:]=x_s[1,:]\n",
    "#             Hx[2,:]=x_s[2,:]\n",
    "\n",
    "            dHdx[:,:,i]=np.ones((n_obs,n_states))\n",
    "\n",
    "            y=np.ones((n_obs,1))\n",
    "            #y[:,0]=obs_vect[:,0]\n",
    "            y[:,0]=obs_vect[index_obs]\n",
    "\n",
    "            y_i=np.ones((n_obs,1))\n",
    "#             y_i[0,0]=Hx[0,i]\n",
    "#             y_i[1,0]=Hx[1,i]\n",
    "            y_i[:,0]=Hx[:,i]\n",
    "#             y_i[1,0]=Hx[1,i]\n",
    "#             y_i[2,0]=Hx[2,i]\n",
    "\n",
    "    #         if s==0:\n",
    "    #             x_s[:,i]=x0[:,i]\n",
    "    #         else\n",
    "            #grad_log_post[:,i]=(Hx.transpose()).dot(np.linalg.inv(R)).dot(y-y_i)-np.linalg.inv(B).dot(x_s[:,i]-x0_mean)\n",
    "            dpdx[:,i]=grad_log_post(H,R,R_inv,y,y_i,B,x_s[:,i],x0_mean);\n",
    "            \n",
    "            # NOTE: There are problems in this calculation because a variable\n",
    "            # and a function have the same names\n",
    "\n",
    "            #print('It passed this line - check 01')\n",
    "\n",
    "            # Kernel calculation\n",
    "\n",
    "        B_d=np.zeros((n_states))\n",
    "        for d in range(n_states):\n",
    "            B_d[d]=B[d,d]\n",
    "\n",
    "        #print(f'd={d}')\n",
    "\n",
    "        fs=np.zeros((n_states,n_mem))\n",
    "        I_f=np.zeros((n_states,n_mem)) # important to make sure grad_KL starts from zero! This was the error vs Matlab\n",
    "        attractive_term=np.zeros((n_states,n_mem))\n",
    "        repelling_term=np.zeros((n_states,n_mem))\n",
    "\n",
    "        for i in range(n_mem):\n",
    "\n",
    "            for j in range(n_mem):\n",
    "                #xj=0;\n",
    "    #             dpdx[:,j]=gradient_posterior[:,j];\n",
    "                if j>=i:\n",
    "                    kernel[:,i,j]=np.exp((-1/2)*((x_s[:,i]-x_s[:,j])**2)/(alpha*B_d[:]));\n",
    "                    #dkdx[:,i,j]=((x_s[:,i]-x_s[:,j])/(alpha*B_d[:]))*kernel[:,i,j];\n",
    "                    dkdx[:,i,j]=((x_s[:,i]-x_s[:,j])/(alpha))*kernel[:,i,j];\n",
    "                else:\n",
    "                    kernel[:,i,j]=kernel[:,j,i];\n",
    "                    dkdx[:,i,j]=-dkdx[:,j,i];\n",
    "\n",
    "                attractive_term[:,i]=(1/n_mem)*(kernel[:,i,j]*dpdx[:,j])\n",
    "                repelling_term[:,i]=(1/n_mem)*(dkdx[:,i,j])\n",
    "\n",
    "                I_f[:,i]=I_f[:,i]+attractive_term[:,i]+repelling_term[:,i];\n",
    "                #I_f[:,i]=I_f[:,i]+attractive_term[:,i];\n",
    "\n",
    "\n",
    "            # Update the state vector for next pseudo time step\n",
    "\n",
    "            # Kernel evolution\n",
    "    #         pff_kernel[:,:,:,s]=kernel[:,:,:]\n",
    "    #         pff_dkdx[:,:,:,s]=dkdx[:,:,:]\n",
    "            # Gradient posterior evolution\n",
    "    #         pff_grad_log_post[:,:,s]=dpdx[:,:]\n",
    "            # Gradient KL divergence evolution\n",
    "    #         pff_grad_KL[:,:,s]=I_f\n",
    "    #         pff_grad_KL_attractive[:,:,s]=attractive_term\n",
    "    #         pff_grad_KL_repelling[:,:,s]=repelling_term\n",
    "\n",
    "        for i in range(n_mem):\n",
    "            #fs[:,i]=B.dot(I_f[:,i])\n",
    "            fs[:,i]=I_f[:,i]\n",
    "            x_s[:,i]=x_s[:,i]+ds*fs[:,i]\n",
    "        python_pseudoflow[:,:,s+1]=x_s\n",
    "\n",
    "        #print(f'finished with s={s}')\n",
    "\n",
    "        s=s+1\n",
    "            #python_pseudoflow[:,:,s]=x_s\n",
    "    return  python_pseudoflow"
   ]
  },
  {
   "cell_type": "code",
   "execution_count": 9,
   "id": "fddfc5cc",
   "metadata": {},
   "outputs": [],
   "source": [
    "# Test for Lorenz 96 Ensemble Forward Model 2023/03/10\n",
    "# by Hamed Ali Diab-Montero\n",
    "# h.a.diabmontero@tudelft.nl\\\n",
    "\n",
    "# TRUTH\n",
    "F = -3.6\n",
    "n_x = 6                       # size of the state vector\n",
    "X_in = F*np.ones((n_x,1))      # initial condition (for steady state)\n",
    "#X_in[0,0] += 0.01  # Add small perturbation to the first variable\n",
    "\n",
    "X_in[n_x//5:n_x:n_x//5] = F+1  # perturbed IC (to generate chaotic behavior)\n",
    "\n",
    "# Time information\n",
    "warm_nt = 1000                 # number of warm-up time steps\n",
    "n_t = 5000                     # number of time steps to simulate\n",
    "tstep = 0.01                   # time step size\n",
    "\n",
    "t_truth = np.zeros(warm_nt + n_t)\n",
    "t_truth[0] = tstep\n",
    "for t in range(warm_nt + n_t - 1):\n",
    "    t_truth[t+1] = t_truth[t] + tstep\n",
    "\n",
    "X_truth = np.zeros((n_x, warm_nt + n_t))\n",
    "X_truth[:,0] = X_in[:,0]\n",
    "for t in range(warm_nt + n_t - 1):\n",
    "    X_truth[:,t+1] = L96_RK4(X_truth[:,t], tstep, F)"
   ]
  },
  {
   "cell_type": "code",
   "execution_count": 10,
   "id": "0b892342",
   "metadata": {},
   "outputs": [
    {
     "data": {
      "text/plain": [
       "<matplotlib.contour.QuadContourSet at 0x7f504d90b5b0>"
      ]
     },
     "execution_count": 10,
     "metadata": {},
     "output_type": "execute_result"
    },
    {
     "data": {
      "image/png": "[encoded data removed]",
      "text/plain": [
       "<Figure size 2000x1000 with 1 Axes>"
      ]
     },
     "metadata": {},
     "output_type": "display_data"
    }
   ],
   "source": [
    "X_truth.shape\n",
    "fig=plt.figure(figsize=(20,10))\n",
    "x=t_truth\n",
    "y=range(n_x)\n",
    "X,Y = np.meshgrid(x,y)\n",
    "#plt.pcolor(X[:,0:2000],Y[:,0:2000],X_truth[:,0:2000],cmap='seismic')\n",
    "plt.contourf(X[:,0:2000],Y[:,0:2000],X_truth[:,0:2000],cmap='seismic')"
   ]
  },
  {
   "cell_type": "code",
   "execution_count": 11,
   "id": "2c07a625",
   "metadata": {},
   "outputs": [],
   "source": [
    "#OBSERVATIONS\n",
    "obs_rate = 50      # interval of time steps between observations\n",
    "obs_den = 1        # observation density (every obs_den -th grids are observed)\n",
    "t_obs = t_truth[::obs_rate]\n",
    "index_truth = range(len(t_truth))\n",
    "\n",
    "\n",
    "mu_pert = 0\n",
    "sigma_pert = 1.5\n",
    "\n",
    "# Dataset to test method\n",
    "# x_dataset = np.loadtxt('obs_l96_40_100000.txt')\n",
    "\n",
    "# Observations\n",
    "r_eps = np.sqrt(2)\n",
    "mu_pert = 0\n",
    "pert_obs = np.random.normal(mu_pert, r_eps, [ len(t_obs), int(n_x/obs_den)])\n",
    "\n",
    "\n",
    "# NOTE: @Hamed -->modify from here\n",
    "x_obset = np.ones((len(t_obs), n_x+2)) * -999\n",
    "x_obset[:, 0] = t_obs\n",
    "x_obset[:,1] = index_truth[::obs_rate]\n",
    "x_obset[:, 2::obs_den] = np.transpose(X_truth[::obs_den,::obs_rate]) + pert_obs\n",
    "\n",
    "# t_first_da = 10\n",
    "# n_obs = np.count_nonzero(x_obset[t_first_da, 1:] > -999)\n",
    "\n",
    "# r_eps = 0.3\n",
    "\n",
    "t_first_da = int(warm_nt/obs_rate)+1 # index first assimilation \n",
    "n_obs = np.sum(x_obset[t_first_da, 2:] > -999)\n",
    "R=np.eye(n_obs)*r_eps\n",
    "R_inv=np.linalg.inv(R)\n"
   ]
  },
  {
   "cell_type": "code",
   "execution_count": 12,
   "id": "2f3bf6a3",
   "metadata": {},
   "outputs": [
    {
     "data": {
      "text/plain": [
       "(6000,)"
      ]
     },
     "execution_count": 12,
     "metadata": {},
     "output_type": "execute_result"
    }
   ],
   "source": [
    "t_truth.shape"
   ]
  },
  {
   "cell_type": "code",
   "execution_count": 13,
   "id": "47735fb0",
   "metadata": {},
   "outputs": [
    {
     "data": {
      "text/plain": [
       "59.99999999999663"
      ]
     },
     "execution_count": 13,
     "metadata": {},
     "output_type": "execute_result"
    }
   ],
   "source": [
    "t_truth[-1]"
   ]
  },
  {
   "cell_type": "code",
   "execution_count": 14,
   "id": "eeb852d9",
   "metadata": {},
   "outputs": [
    {
     "data": {
      "text/plain": [
       "<matplotlib.contour.QuadContourSet at 0x7f504d0d24f0>"
      ]
     },
     "execution_count": 14,
     "metadata": {},
     "output_type": "execute_result"
    },
    {
     "data": {
      "image/png": "[encoded data removed]",
      "text/plain": [
       "<Figure size 2000x1000 with 1 Axes>"
      ]
     },
     "metadata": {},
     "output_type": "display_data"
    }
   ],
   "source": [
    "fig=plt.figure(figsize=(20,10))\n",
    "x=t_obs\n",
    "y=range(n_x)\n",
    "X,Y = np.meshgrid(x,y)\n",
    "#plt.pcolor(X,Y,np.transpose(x_obset[:,2:]),cmap='seismic')\n",
    "plt.contourf(X,Y,np.transpose(x_obset[:,2:]),cmap='seismic')"
   ]
  },
  {
   "cell_type": "code",
   "execution_count": 15,
   "id": "765328b0",
   "metadata": {},
   "outputs": [],
   "source": [
    "#-----------------------------------------\n",
    "# Particle Flow Filter\n",
    "#-----------------------------------------\n",
    "\n",
    "n_mem=100;                  # N - Ensemble size\n",
    "                            # Bandwith hyperparameter5\n",
    "\n",
    "ctlmean = X_truth[:, 0] + np.random.multivariate_normal(np.zeros(n_x), np.eye(n_x)).T\n",
    "\n",
    "# initial condition\n",
    "n_t=len(t_truth)\n",
    "X_t = np.zeros((n_x, n_mem, n_t))\n",
    "Q = 2 * np.eye(n_x)            # background error covariance (only for the initial perturbation)\n",
    "Q_inv = np.linalg.inv(Q)\n",
    "X_t[:,:,0] = np.random.multivariate_normal(ctlmean, Q, n_mem).T\n",
    "\n",
    "X_0 = np.loadtxt('prior_l96_40_100_particles.txt')\n",
    "# X_t[:,:,0] = X_0.copy()\n",
    "\n",
    "t = warm_nt+1\n",
    "# We will assimilate this number of steps\n",
    "# t_assim < len(t_truth)-obs_rate \n",
    "t_assim = len(t_truth)-50\n",
    "\n",
    "for k in range(warm_nt):\n",
    "    X_t[:,:,k+1] = L96_RK4_ensemble(X_t[:,:,k], tstep, F)\n",
    "\n",
    "max_s=70\n",
    "pseudoflow_l96=[]"
   ]
  },
  {
   "cell_type": "code",
   "execution_count": 16,
   "id": "b090b721",
   "metadata": {},
   "outputs": [
    {
     "data": {
      "text/plain": [
       "<matplotlib.collections.PolyCollection at 0x7f508f0674f0>"
      ]
     },
     "execution_count": 16,
     "metadata": {},
     "output_type": "execute_result"
    },
    {
     "data": {
      "image/png": "[encoded data removed]",
      "text/plain": [
       "<Figure size 640x480 with 1 Axes>"
      ]
     },
     "metadata": {},
     "output_type": "display_data"
    }
   ],
   "source": [
    "plt.pcolor(X_t[:,0,:])"
   ]
  },
  {
   "cell_type": "code",
   "execution_count": 17,
   "id": "6a92dc33",
   "metadata": {},
   "outputs": [
    {
     "name": "stdout",
     "output_type": "stream",
     "text": [
      "Finished with 1051\n",
      "Finished with 1101\n"
     ]
    },
    {
     "ename": "KeyboardInterrupt",
     "evalue": "",
     "output_type": "error",
     "traceback": [
      "\u001b[0;31m---------------------------------------------------------------------------\u001b[0m",
      "\u001b[0;31mKeyboardInterrupt\u001b[0m                         Traceback (most recent call last)",
      "\u001b[0;32m/tmp/ipykernel_24554/3667602455.py\u001b[0m in \u001b[0;36m<module>\u001b[0;34m\u001b[0m\n\u001b[1;32m     24\u001b[0m     \u001b[0my_t\u001b[0m\u001b[0;34m[\u001b[0m\u001b[0;34m:\u001b[0m\u001b[0;34m,\u001b[0m \u001b[0;36m0\u001b[0m\u001b[0;34m]\u001b[0m \u001b[0;34m=\u001b[0m \u001b[0mx_obset\u001b[0m\u001b[0;34m[\u001b[0m\u001b[0md\u001b[0m\u001b[0;34m,\u001b[0m \u001b[0;36m2\u001b[0m\u001b[0;34m:\u001b[0m\u001b[0;34m]\u001b[0m\u001b[0;34m[\u001b[0m\u001b[0mindex_obs\u001b[0m\u001b[0;34m]\u001b[0m \u001b[0;31m# Experiment specific\u001b[0m\u001b[0;34m\u001b[0m\u001b[0;34m\u001b[0m\u001b[0m\n\u001b[1;32m     25\u001b[0m \u001b[0;34m\u001b[0m\u001b[0m\n\u001b[0;32m---> 26\u001b[0;31m     \u001b[0mpseudoflow\u001b[0m\u001b[0;34m=\u001b[0m \u001b[0mpff\u001b[0m\u001b[0;34m(\u001b[0m\u001b[0mn_mem\u001b[0m\u001b[0;34m,\u001b[0m \u001b[0mn_x\u001b[0m\u001b[0;34m,\u001b[0m \u001b[0mX_t\u001b[0m\u001b[0;34m[\u001b[0m\u001b[0;34m:\u001b[0m\u001b[0;34m,\u001b[0m \u001b[0;34m:\u001b[0m\u001b[0;34m,\u001b[0m \u001b[0mt\u001b[0m\u001b[0;34m-\u001b[0m\u001b[0;36m1\u001b[0m\u001b[0;34m]\u001b[0m\u001b[0;34m,\u001b[0m \u001b[0mx_obset\u001b[0m\u001b[0;34m[\u001b[0m\u001b[0md\u001b[0m\u001b[0;34m,\u001b[0m \u001b[0;36m2\u001b[0m\u001b[0;34m:\u001b[0m\u001b[0;34m]\u001b[0m\u001b[0;34m,\u001b[0m \u001b[0mr_eps\u001b[0m\u001b[0;34m,\u001b[0m \u001b[0mindex_obs\u001b[0m\u001b[0;34m)\u001b[0m\u001b[0;34m\u001b[0m\u001b[0;34m\u001b[0m\u001b[0m\n\u001b[0m\u001b[1;32m     27\u001b[0m     \u001b[0mpseudoflow_l96\u001b[0m\u001b[0;34m.\u001b[0m\u001b[0mappend\u001b[0m\u001b[0;34m(\u001b[0m\u001b[0mpseudoflow\u001b[0m\u001b[0;34m.\u001b[0m\u001b[0mcopy\u001b[0m\u001b[0;34m(\u001b[0m\u001b[0;34m)\u001b[0m\u001b[0;34m)\u001b[0m\u001b[0;34m\u001b[0m\u001b[0;34m\u001b[0m\u001b[0m\n\u001b[1;32m     28\u001b[0m \u001b[0;34m\u001b[0m\u001b[0m\n",
      "\u001b[0;32m/tmp/ipykernel_24554/1207782289.py\u001b[0m in \u001b[0;36mpff\u001b[0;34m(n_mem, n_states, ensemble, obs_vect, r_obs, index_obs)\u001b[0m\n\u001b[1;32m    109\u001b[0m \u001b[0;34m\u001b[0m\u001b[0m\n\u001b[1;32m    110\u001b[0m                 \u001b[0mattractive_term\u001b[0m\u001b[0;34m[\u001b[0m\u001b[0;34m:\u001b[0m\u001b[0;34m,\u001b[0m\u001b[0mi\u001b[0m\u001b[0;34m]\u001b[0m\u001b[0;34m=\u001b[0m\u001b[0;34m(\u001b[0m\u001b[0;36m1\u001b[0m\u001b[0;34m/\u001b[0m\u001b[0mn_mem\u001b[0m\u001b[0;34m)\u001b[0m\u001b[0;34m*\u001b[0m\u001b[0;34m(\u001b[0m\u001b[0mkernel\u001b[0m\u001b[0;34m[\u001b[0m\u001b[0;34m:\u001b[0m\u001b[0;34m,\u001b[0m\u001b[0mi\u001b[0m\u001b[0;34m,\u001b[0m\u001b[0mj\u001b[0m\u001b[0;34m]\u001b[0m\u001b[0;34m*\u001b[0m\u001b[0mdpdx\u001b[0m\u001b[0;34m[\u001b[0m\u001b[0;34m:\u001b[0m\u001b[0;34m,\u001b[0m\u001b[0mj\u001b[0m\u001b[0;34m]\u001b[0m\u001b[0;34m)\u001b[0m\u001b[0;34m\u001b[0m\u001b[0;34m\u001b[0m\u001b[0m\n\u001b[0;32m--> 111\u001b[0;31m                 \u001b[0mrepelling_term\u001b[0m\u001b[0;34m[\u001b[0m\u001b[0;34m:\u001b[0m\u001b[0;34m,\u001b[0m\u001b[0mi\u001b[0m\u001b[0;34m]\u001b[0m\u001b[0;34m=\u001b[0m\u001b[0;34m(\u001b[0m\u001b[0;36m1\u001b[0m\u001b[0;34m/\u001b[0m\u001b[0mn_mem\u001b[0m\u001b[0;34m)\u001b[0m\u001b[0;34m*\u001b[0m\u001b[0;34m(\u001b[0m\u001b[0mdkdx\u001b[0m\u001b[0;34m[\u001b[0m\u001b[0;34m:\u001b[0m\u001b[0;34m,\u001b[0m\u001b[0mi\u001b[0m\u001b[0;34m,\u001b[0m\u001b[0mj\u001b[0m\u001b[0;34m]\u001b[0m\u001b[0;34m)\u001b[0m\u001b[0;34m\u001b[0m\u001b[0;34m\u001b[0m\u001b[0m\n\u001b[0m\u001b[1;32m    112\u001b[0m \u001b[0;34m\u001b[0m\u001b[0m\n\u001b[1;32m    113\u001b[0m                 \u001b[0mI_f\u001b[0m\u001b[0;34m[\u001b[0m\u001b[0;34m:\u001b[0m\u001b[0;34m,\u001b[0m\u001b[0mi\u001b[0m\u001b[0;34m]\u001b[0m\u001b[0;34m=\u001b[0m\u001b[0mI_f\u001b[0m\u001b[0;34m[\u001b[0m\u001b[0;34m:\u001b[0m\u001b[0;34m,\u001b[0m\u001b[0mi\u001b[0m\u001b[0;34m]\u001b[0m\u001b[0;34m+\u001b[0m\u001b[0mattractive_term\u001b[0m\u001b[0;34m[\u001b[0m\u001b[0;34m:\u001b[0m\u001b[0;34m,\u001b[0m\u001b[0mi\u001b[0m\u001b[0;34m]\u001b[0m\u001b[0;34m+\u001b[0m\u001b[0mrepelling_term\u001b[0m\u001b[0;34m[\u001b[0m\u001b[0;34m:\u001b[0m\u001b[0;34m,\u001b[0m\u001b[0mi\u001b[0m\u001b[0;34m]\u001b[0m\u001b[0;34m;\u001b[0m\u001b[0;34m\u001b[0m\u001b[0;34m\u001b[0m\u001b[0m\n",
      "\u001b[0;31mKeyboardInterrupt\u001b[0m: "
     ]
    }
   ],
   "source": [
    "d = t_first_da\n",
    "\n",
    "# K_gain_t = np.zeros((n_x, n_x, len(t_obs)))\n",
    "\n",
    "# n_t=len(t_truth)-warm_nt-1\n",
    "\n",
    "# t_assim=1500 # Just for texting\n",
    "\n",
    "while t*tstep < t_assim*tstep:\n",
    "    \n",
    "    t_analysis = int(np.ceil(t_obs[d]/tstep))\n",
    "  \n",
    "    # I need to start in k-1 beacause of the index system of python\n",
    "    # We need to stop in t_analysis because of the index system of python\n",
    "    for k in range(t, t_analysis,1):\n",
    "        X_t[:,:,k] = L96_RK4_ensemble(X_t[:,:,k-1], tstep, F)\n",
    "   \n",
    "    t = t_analysis\n",
    "\n",
    "    # Observations\n",
    "    y_t = np.zeros((n_obs, 1))\n",
    "    index_obs = np.where(x_obset[d, 2:] > -999)[0] # Experiment specific\n",
    "    #y_t[:, 0] = x_obset[d, 2:] # Experiment specific\n",
    "    y_t[:, 0] = x_obset[d, 2:][index_obs] # Experiment specific\n",
    "\n",
    "    pseudoflow= pff(n_mem, n_x, X_t[:, :, t-1], x_obset[d, 2:], r_eps, index_obs)\n",
    "    pseudoflow_l96.append(pseudoflow.copy())\n",
    "     \n",
    "    X_t[:, :, t-1] =  pseudoflow[:,:,-1]\n",
    " \n",
    "    print(f'Finished with {int(t_analysis)}')\n",
    "    \n",
    "    d += 1\n",
    "    \n",
    "print('Finished with the estimation')"
   ]
  },
  {
   "cell_type": "code",
   "execution_count": null,
   "id": "59486bb9",
   "metadata": {},
   "outputs": [],
   "source": [
    "index_variable=6\n",
    "fig=plt.figure(figsize=(20,10))\n",
    "for i in range(n_mem):\n",
    "    plt.plot(t_truth,X_t[index_variable,i,:],color='lightgray',alpha=0.3)\n",
    "plt.plot(t_truth,X_truth[index_variable,:],color='k')\n",
    "plt.plot(t_truth,np.mean(X_t[index_variable,:,:],axis=0),color='g')\n",
    "plt.scatter(t_obs,x_obset[:,index_variable+2],color='r',s=20)\n",
    "# plt.xlim(0,1000)"
   ]
  },
  {
   "cell_type": "code",
   "execution_count": null,
   "id": "11d1f245",
   "metadata": {},
   "outputs": [],
   "source": [
    "for i in range(n_mem):\n",
    "    plt.plot(pseudoflow_l96[60][4,i,:])"
   ]
  },
  {
   "cell_type": "code",
   "execution_count": null,
   "id": "134f18be",
   "metadata": {},
   "outputs": [],
   "source": [
    "for i in range(n_mem):\n",
    "    plt.plot(pseudoflow_l96[0][4,i,:])"
   ]
  },
  {
   "cell_type": "code",
   "execution_count": 24,
   "id": "22040f90",
   "metadata": {},
   "outputs": [
    {
     "ename": "IndexError",
     "evalue": "index 10 is out of bounds for axis 0 with size 10",
     "output_type": "error",
     "traceback": [
      "\u001b[0;31m---------------------------------------------------------------------------\u001b[0m",
      "\u001b[0;31mIndexError\u001b[0m                                Traceback (most recent call last)",
      "\u001b[0;32m/tmp/ipykernel_21656/2849469576.py\u001b[0m in \u001b[0;36m<module>\u001b[0;34m\u001b[0m\n\u001b[1;32m      1\u001b[0m \u001b[0mtime_slice\u001b[0m\u001b[0;34m=\u001b[0m\u001b[0;36m0\u001b[0m\u001b[0;34m\u001b[0m\u001b[0;34m\u001b[0m\u001b[0m\n\u001b[1;32m      2\u001b[0m \u001b[0mindex_variable\u001b[0m\u001b[0;34m=\u001b[0m\u001b[0;36m10\u001b[0m\u001b[0;34m\u001b[0m\u001b[0;34m\u001b[0m\u001b[0m\n\u001b[0;32m----> 3\u001b[0;31m \u001b[0msns\u001b[0m\u001b[0;34m.\u001b[0m\u001b[0mhistplot\u001b[0m\u001b[0;34m(\u001b[0m\u001b[0mpseudoflow_l96\u001b[0m\u001b[0;34m[\u001b[0m\u001b[0mtime_slice\u001b[0m\u001b[0;34m]\u001b[0m\u001b[0;34m[\u001b[0m\u001b[0mindex_variable\u001b[0m\u001b[0;34m,\u001b[0m\u001b[0;34m:\u001b[0m\u001b[0;34m,\u001b[0m\u001b[0;36m0\u001b[0m\u001b[0;34m]\u001b[0m\u001b[0;34m,\u001b[0m\u001b[0mcolor\u001b[0m\u001b[0;34m=\u001b[0m\u001b[0;34m'b'\u001b[0m\u001b[0;34m,\u001b[0m\u001b[0malpha\u001b[0m\u001b[0;34m=\u001b[0m\u001b[0;36m0.3\u001b[0m\u001b[0;34m)\u001b[0m\u001b[0;34m\u001b[0m\u001b[0;34m\u001b[0m\u001b[0m\n\u001b[0m\u001b[1;32m      4\u001b[0m \u001b[0msns\u001b[0m\u001b[0;34m.\u001b[0m\u001b[0mhistplot\u001b[0m\u001b[0;34m(\u001b[0m\u001b[0mpseudoflow_l96\u001b[0m\u001b[0;34m[\u001b[0m\u001b[0mtime_slice\u001b[0m\u001b[0;34m]\u001b[0m\u001b[0;34m[\u001b[0m\u001b[0mindex_variable\u001b[0m\u001b[0;34m,\u001b[0m\u001b[0;34m:\u001b[0m\u001b[0;34m,\u001b[0m\u001b[0;34m-\u001b[0m\u001b[0;36m1\u001b[0m\u001b[0;34m]\u001b[0m\u001b[0;34m,\u001b[0m\u001b[0mcolor\u001b[0m\u001b[0;34m=\u001b[0m\u001b[0;34m'g'\u001b[0m\u001b[0;34m,\u001b[0m\u001b[0malpha\u001b[0m\u001b[0;34m=\u001b[0m\u001b[0;36m0.3\u001b[0m\u001b[0;34m)\u001b[0m\u001b[0;34m\u001b[0m\u001b[0;34m\u001b[0m\u001b[0m\n\u001b[1;32m      5\u001b[0m \u001b[0mplt\u001b[0m\u001b[0;34m.\u001b[0m\u001b[0mvlines\u001b[0m\u001b[0;34m(\u001b[0m\u001b[0mx\u001b[0m\u001b[0;34m=\u001b[0m\u001b[0mx_obset\u001b[0m\u001b[0;34m[\u001b[0m\u001b[0mtime_slice\u001b[0m\u001b[0;34m,\u001b[0m\u001b[0;36m2\u001b[0m\u001b[0;34m+\u001b[0m\u001b[0mindex_variable\u001b[0m\u001b[0;34m]\u001b[0m\u001b[0;34m,\u001b[0m\u001b[0mymin\u001b[0m\u001b[0;34m=\u001b[0m\u001b[0;36m0\u001b[0m\u001b[0;34m,\u001b[0m\u001b[0mymax\u001b[0m\u001b[0;34m=\u001b[0m\u001b[0;36m25\u001b[0m\u001b[0;34m,\u001b[0m\u001b[0mcolor\u001b[0m\u001b[0;34m=\u001b[0m\u001b[0;34m'r'\u001b[0m\u001b[0;34m)\u001b[0m\u001b[0;34m\u001b[0m\u001b[0;34m\u001b[0m\u001b[0m\n",
      "\u001b[0;31mIndexError\u001b[0m: index 10 is out of bounds for axis 0 with size 10"
     ]
    }
   ],
   "source": [
    "time_slice=0\n",
    "index_variable=10\n",
    "sns.histplot(pseudoflow_l96[time_slice][index_variable,:,0],color='b',alpha=0.3)\n",
    "sns.histplot(pseudoflow_l96[time_slice][index_variable,:,-1],color='g',alpha=0.3)\n",
    "plt.vlines(x=x_obset[time_slice,2+index_variable],ymin=0,ymax=25,color='r')\n",
    "plt.vlines(x=X_truth[index_variable,time_slice*int(obs_rate)],ymin=0,ymax=25,color='k')"
   ]
  },
  {
   "cell_type": "code",
   "execution_count": 32,
   "id": "59c478f5",
   "metadata": {},
   "outputs": [
    {
     "data": {
      "text/plain": [
       "-3.423845776624758"
      ]
     },
     "execution_count": 32,
     "metadata": {},
     "output_type": "execute_result"
    }
   ],
   "source": [
    "pseudoflow_l96[10][6,i,0]"
   ]
  },
  {
   "cell_type": "code",
   "execution_count": 33,
   "id": "86585ecc",
   "metadata": {},
   "outputs": [
    {
     "data": {
      "text/plain": [
       "-0.7308987409297143"
      ]
     },
     "execution_count": 33,
     "metadata": {},
     "output_type": "execute_result"
    }
   ],
   "source": [
    "x_obset[10,6]"
   ]
  },
  {
   "cell_type": "code",
   "execution_count": 34,
   "id": "96ac63b8",
   "metadata": {},
   "outputs": [
    {
     "data": {
      "text/plain": [
       "(120, 42)"
      ]
     },
     "execution_count": 34,
     "metadata": {},
     "output_type": "execute_result"
    }
   ],
   "source": [
    "x_obset.shape"
   ]
  },
  {
   "cell_type": "code",
   "execution_count": 35,
   "id": "721996f6",
   "metadata": {},
   "outputs": [
    {
     "data": {
      "text/plain": [
       "(40, 6000)"
      ]
     },
     "execution_count": 35,
     "metadata": {},
     "output_type": "execute_result"
    }
   ],
   "source": [
    "X_truth.shape"
   ]
  },
  {
   "cell_type": "code",
   "execution_count": 36,
   "id": "79b2c746",
   "metadata": {},
   "outputs": [
    {
     "data": {
      "text/plain": [
       "15.0"
      ]
     },
     "execution_count": 36,
     "metadata": {},
     "output_type": "execute_result"
    }
   ],
   "source": [
    "1500*tstep"
   ]
  },
  {
   "cell_type": "code",
   "execution_count": 37,
   "id": "3ca6328c",
   "metadata": {},
   "outputs": [
    {
     "data": {
      "text/plain": [
       "array([[ 1.00000000e-02,  0.00000000e+00,  7.76400606e+00, ...,\n",
       "        -9.99000000e+02,  9.25049395e+00, -9.99000000e+02],\n",
       "       [ 5.10000000e-01,  5.00000000e+01,  5.07953433e+00, ...,\n",
       "        -9.99000000e+02,  4.53377259e+00, -9.99000000e+02],\n",
       "       [ 1.01000000e+00,  1.00000000e+02,  5.12830514e+00, ...,\n",
       "        -9.99000000e+02,  7.60497961e+00, -9.99000000e+02],\n",
       "       ...,\n",
       "       [ 5.85100000e+01,  5.85000000e+03,  1.19988643e+01, ...,\n",
       "        -9.99000000e+02,  5.24471531e-01, -9.99000000e+02],\n",
       "       [ 5.90100000e+01,  5.90000000e+03,  2.81086191e-01, ...,\n",
       "        -9.99000000e+02,  7.51474256e+00, -9.99000000e+02],\n",
       "       [ 5.95100000e+01,  5.95000000e+03,  2.53757566e+00, ...,\n",
       "        -9.99000000e+02, -3.52987311e+00, -9.99000000e+02]])"
      ]
     },
     "execution_count": 37,
     "metadata": {},
     "output_type": "execute_result"
    }
   ],
   "source": [
    "x_obset"
   ]
  },
  {
   "cell_type": "code",
   "execution_count": null,
   "id": "b121e683",
   "metadata": {},
   "outputs": [],
   "source": []
  },
  {
   "cell_type": "code",
   "execution_count": null,
   "id": "3cae1c0f",
   "metadata": {},
   "outputs": [],
   "source": []
  }
 ],
 "metadata": {
  "kernelspec": {
   "display_name": "Python 3 (ipykernel)",
   "language": "python",
   "name": "python3"
  },
  "language_info": {
   "codemirror_mode": {
    "name": "ipython",
    "version": 3
   },
   "file_extension": ".py",
   "mimetype": "text/x-python",
   "name": "python",
   "nbconvert_exporter": "python",
   "pygments_lexer": "ipython3",
   "version": "3.9.13"
  }
 },
 "nbformat": 4,
 "nbformat_minor": 5
}
