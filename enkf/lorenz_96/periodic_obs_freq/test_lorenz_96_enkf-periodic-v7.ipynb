{
 "cells": [
  {
   "cell_type": "code",
   "execution_count": 1,
   "id": "0cd829db",
   "metadata": {},
   "outputs": [],
   "source": [
    "import numpy as np\n",
    "import matplotlib.pylab as plt"
   ]
  },
  {
   "cell_type": "code",
   "execution_count": 2,
   "id": "678fb913",
   "metadata": {},
   "outputs": [],
   "source": [
    "#----------------------------------------------\n",
    "#   FUNCTIONS\n",
    "#----------------------------------------------\n",
    "\n",
    "def h_operator(nx,obs_vect):\n",
    "    \n",
    "    #nx=len(obs_vect)\n",
    "    index_obs=np.where(obs_vect>-999)[0]\n",
    "    num_obs=len(index_obs)\n",
    "    \n",
    "    h_matrix=np.zeros((num_obs,nx))\n",
    "    for i in range(num_obs):\n",
    "        h_matrix[i,index_obs[i]]=1\n",
    "        \n",
    "    return h_matrix"
   ]
  },
  {
   "cell_type": "code",
   "execution_count": 3,
   "id": "5709413c",
   "metadata": {},
   "outputs": [],
   "source": [
    "def enkf(mem,nx,ensemble,obs_vect,r_obs):\n",
    "    \n",
    "    index_obs=np.where(obs_vect>-999)[0]\n",
    "    num_obs=len(index_obs)\n",
    "\n",
    "    # Organize the prior vector\n",
    "    #prior_vect=np.transpose(ensemble)\n",
    "    prior_vect=ensemble\n",
    "    \n",
    "    # Calculate the prior covariance matrix\n",
    "    mean_prior=np.mean(prior_vect,axis=1)\n",
    "    cov_prior=np.cov(prior_vect)\n",
    "    \n",
    "#     ------------------------\n",
    "#     Localization\n",
    "#     ------------------------\n",
    "#     r_influ=4\n",
    "#     tmp = np.zeros((nx, nx))\n",
    "#     for i in range(1, 3*r_influ+1):\n",
    "#         tmp += np.diag(np.ones(nx-i), i) + np.diag(np.ones(nx-i), -i) + \\\n",
    "#                np.diag(np.ones(i),nx-i) + np.diag(np.ones(i), -(nx-i))\n",
    "#         tmp *= np.exp(-i**2 / r_influ**2)\n",
    "#     mask = tmp + np.diag(np.ones(nx))\n",
    "#     cov_prior=np.multiply(cov_prior,mask)\n",
    "#     ------------------------\n",
    "\n",
    "#     # Perturbed observation vector\n",
    "    obs_vect_filtered=obs_vect[index_obs]\n",
    "\n",
    "    obs_vect_perturbed=np.zeros((num_obs,mem))\n",
    "    \n",
    "    eps_vect=np.zeros((num_obs,mem))\n",
    "    \n",
    "    for i in range(mem):\n",
    "        eps_vect[:,i]=np.random.normal(0,r_obs,len(index_obs))\n",
    "        obs_vect_perturbed[:,i]=obs_vect_filtered[:,0]+eps_vect[:,i]  \n",
    "  \n",
    "    cov_obs=np.identity(num_obs)*r_obs**2\n",
    "    \n",
    "    \n",
    "#     # Calculate the observation operator\n",
    "    h_matrix=h_operator(nx,obs_vect)  \n",
    "    \n",
    "#     # Calculate the kalman gain\n",
    "    \n",
    "    k_left=cov_prior.dot(np.transpose(h_matrix))\n",
    "    \n",
    "    k_right=h_matrix.dot(cov_prior).dot(np.transpose(h_matrix))+cov_obs\n",
    "    \n",
    "    k_right_inv=np.linalg.inv(k_right)\n",
    "\n",
    "    kalman_gain=k_left.dot(k_right_inv)\n",
    "    \n",
    "#     # Calculate the innovation\n",
    "    \n",
    "    innovation=obs_vect_perturbed-h_matrix.dot(prior_vect)\n",
    "\n",
    "    \n",
    "#     # Calculate the posterior\n",
    "    \n",
    "    posterior_vect=prior_vect+kalman_gain.dot(innovation)\n",
    "\n",
    "    mean_posterior=np.mean(posterior_vect, axis=1)\n",
    "    \n",
    "    cov_posterior=np.cov(posterior_vect)\n",
    "    \n",
    "    \n",
    "    enkf={\"posterior\":posterior_vect,\"kalman_gain\":kalman_gain,\"innovation\":innovation,\n",
    "          \"mean_post\":mean_posterior,\"cov_post\":cov_posterior,\"post_matrix\":posterior_vect}\n",
    "    \n",
    "    return enkf"
   ]
  },
  {
   "cell_type": "code",
   "execution_count": 4,
   "id": "3e9d9e1c",
   "metadata": {},
   "outputs": [],
   "source": [
    "# Version 1\n",
    "\n",
    "def L96_RK4(X, dt, F):\n",
    "    # integrate for L96 model using RK4\n",
    "    # X is the input, dt is the time resolution\n",
    "    # X_out is the output\n",
    "\n",
    "    dim = len(X)\n",
    "    k1 = np.zeros(dim)\n",
    "    k2 = np.zeros(dim)\n",
    "    k3 = np.zeros(dim)\n",
    "    k4 = np.zeros(dim)\n",
    "    X_out = np.zeros(dim)\n",
    "\n",
    "    # parameter for the model\n",
    "    # F = 8;\n",
    "\n",
    "    tmp_b = X.copy()  # before integration\n",
    "    \n",
    "    X_p1 = np.concatenate((tmp_b[1:], [tmp_b[0]]))\n",
    "    X_00 = tmp_b\n",
    "    X_n1 = np.concatenate(([tmp_b[-1]], tmp_b[:-1]))\n",
    "    X_n2 = np.concatenate((tmp_b[-2:], tmp_b[:-2]))\n",
    "    \n",
    "    k1 = (X_p1 - X_n2) * X_n1 - X_00 + F\n",
    "    \n",
    "    tmp_b = X + 0.5 * k1 * dt\n",
    "    X_p1 = np.concatenate((tmp_b[1:], [tmp_b[0]]))\n",
    "    X_00 = tmp_b\n",
    "    X_n1 = np.concatenate(([tmp_b[-1]], tmp_b[:-1]))\n",
    "    X_n2 = np.concatenate((tmp_b[-2:], tmp_b[:-2]))\n",
    "    \n",
    "    k2 = (X_p1 - X_n2) * X_n1 - X_00 + F\n",
    "    \n",
    "    tmp_b = X + 0.5 * k2 * dt\n",
    "    X_p1 = np.concatenate((tmp_b[1:], [tmp_b[0]]))\n",
    "    X_00 = tmp_b\n",
    "    X_n1 = np.concatenate(([tmp_b[-1]], tmp_b[:-1]))\n",
    "    X_n2 = np.concatenate((tmp_b[-2:], tmp_b[:-2]))\n",
    "    \n",
    "    k3 = (X_p1 - X_n2) * X_n1 - X_00 + F\n",
    "    \n",
    "    tmp_b = X + k3 * dt\n",
    "    X_p1 = np.concatenate((tmp_b[1:], [tmp_b[0]]))\n",
    "    X_00 = tmp_b\n",
    "    X_n1 = np.concatenate(([tmp_b[-1]], tmp_b[:-1]))\n",
    "    X_n2 = np.concatenate((tmp_b[-2:], tmp_b[:-2]))\n",
    "    \n",
    "    k4 = (X_p1 - X_n2) * X_n1 - X_00 + F\n",
    "    \n",
    "    X_out = X + (dt / 6) * (k1 + 2 * k2 + 2 * k3 + k4)\n",
    "\n",
    "    return X_out\n"
   ]
  },
  {
   "cell_type": "code",
   "execution_count": 5,
   "id": "360cce27",
   "metadata": {},
   "outputs": [],
   "source": [
    "def calc_X(X):\n",
    "    # Calculate X_p1, X_00, X_n1, and X_n2\n",
    "    X_p1 = np.roll(X, -1, axis=0)\n",
    "    X_00 = X.copy()\n",
    "    X_n1 = np.roll(X, 1, axis=0)\n",
    "    X_n2 = np.roll(X, 2, axis=0)\n",
    "    return X_p1, X_00, X_n1, X_n2\n",
    "\n",
    "def L96_RK4_ensemble(X_in, dt, F):\n",
    "    \"\"\"\n",
    "    Integrate the Lorenz 96 model using RK4 for an ensemble of n_mem members\n",
    "    \n",
    "    Parameters:\n",
    "    -----------\n",
    "    X_in: numpy.ndarray\n",
    "        Input array of shape (dim, n_mem)\n",
    "    dt: float\n",
    "        Time resolution\n",
    "    F: float\n",
    "        Parameter for the model\n",
    "    \n",
    "    Returns:\n",
    "    --------\n",
    "    X_out: numpy.ndarray\n",
    "        Array of shape (dim, n_mem) containing the output of the integration\n",
    "    \"\"\"\n",
    "    dim, n_mem = X_in.shape\n",
    "    k1 = np.zeros((dim, n_mem))\n",
    "    k2 = np.zeros((dim, n_mem))\n",
    "    k3 = np.zeros((dim, n_mem))\n",
    "    k4 = np.zeros((dim, n_mem))\n",
    "    X_out = np.zeros((dim, n_mem))\n",
    "\n",
    "    tmp_b = X_in.copy()  # before integration\n",
    "    \n",
    "    X_p1, X_00, X_n1, X_n2 = calc_X(tmp_b)\n",
    "\n",
    "    # Calculate k1\n",
    "    k1 = (X_p1 - X_n2) * X_n1 - X_00 + F\n",
    "\n",
    "    tmp_b2 = X_in + 0.5 * k1 * dt\n",
    "    X_p1, X_00, X_n1, X_n2 = calc_X(tmp_b2)\n",
    "\n",
    "    # Calculate k2\n",
    "    k2 = (X_p1 - X_n2) * X_n1 - X_00 + F\n",
    "\n",
    "    tmp_b3 = X_in + 0.5 * k2 * dt\n",
    "    X_p1, X_00, X_n1, X_n2 = calc_X(tmp_b3)\n",
    "\n",
    "    # Calculate k3\n",
    "    k3 = (X_p1 - X_n2) * X_n1 - X_00 + F\n",
    "\n",
    "    tmp_b4 = X_in + k3 * dt\n",
    "    X_p1, X_00, X_n1, X_n2 = calc_X(tmp_b4)\n",
    "\n",
    "    # Calculate k4\n",
    "    k4 = (X_p1 - X_n2) * X_n1 - X_00 + F\n",
    "\n",
    "    X_out = X_in + (dt / 6) * (k1 + 2 * k2 + 2 * k3 + k4)\n",
    "\n",
    "    return X_out\n"
   ]
  },
  {
   "cell_type": "code",
   "execution_count": 6,
   "id": "e887059a",
   "metadata": {},
   "outputs": [],
   "source": [
    "# Test for Lorenz 96 Ensemble Forward Model 2023/03/10\n",
    "# by Hamed Ali Diab-Montero\n",
    "# h.a.diabmontero@tudelft.nl\\\n",
    "\n",
    "# TRUTH\n",
    "F = 1.2\n",
    "n_x = 10                       # size of the state vector\n",
    "X_in = F*np.ones((n_x,1))      # initial condition (for steady state)\n",
    "#X_in[0,0] += 0.01  # Add small perturbation to the first variable\n",
    "\n",
    "#X_in[n_x//5:n_x:n_x//5] = F+1  # perturbed IC (to generate chaotic behavior)\n",
    "X_in[n_x//2:n_x:n_x//2] = F+1  # perturbed IC (to generate chaotic behavior)\n",
    "\n",
    "# Time information\n",
    "warm_nt = 1000                 # number of warm-up time steps\n",
    "n_t = 5000                     # number of time steps to simulate\n",
    "tstep = 0.01                   # time step size\n",
    "\n",
    "t_truth = np.zeros(warm_nt + n_t)\n",
    "t_truth[0] = tstep\n",
    "for t in range(warm_nt + n_t - 1):\n",
    "    t_truth[t+1] = t_truth[t] + tstep\n",
    "\n",
    "X_truth = np.zeros((n_x, warm_nt + n_t))\n",
    "X_truth[:,0] = X_in[:,0]\n",
    "for t in range(warm_nt + n_t - 1):\n",
    "    X_truth[:,t+1] = L96_RK4(X_truth[:,t], tstep, F)"
   ]
  },
  {
   "cell_type": "code",
   "execution_count": 7,
   "id": "bac56030",
   "metadata": {},
   "outputs": [
    {
     "data": {
      "text/plain": [
       "<matplotlib.contour.QuadContourSet at 0x7f480a3581c0>"
      ]
     },
     "execution_count": 7,
     "metadata": {},
     "output_type": "execute_result"
    },
    {
     "data": {
      "image/png": "[encoded data removed]",
      "text/plain": [
       "<Figure size 2000x1000 with 1 Axes>"
      ]
     },
     "metadata": {},
     "output_type": "display_data"
    }
   ],
   "source": [
    "X_truth.shape\n",
    "fig=plt.figure(figsize=(20,10))\n",
    "x=t_truth\n",
    "y=range(n_x)\n",
    "X,Y = np.meshgrid(x,y)\n",
    "t_cutoff=6000\n",
    "#lt.pcolor(X[:,0:2000],Y[:,0:2000],X_truth[:,0:2000],cmap='seismic')\n",
    "plt.contourf(X[:,0:t_cutoff],Y[:,0:t_cutoff],X_truth[:,0:t_cutoff],cmap='seismic')"
   ]
  },
  {
   "cell_type": "code",
   "execution_count": 8,
   "id": "26300edf",
   "metadata": {},
   "outputs": [],
   "source": [
    "#OBSERVATIONS\n",
    "obs_rate = 500      # interval of time steps between observations\n",
    "obs_den = 1        # observation density (every obs_den -th grids are observed)\n",
    "t_obs = t_truth[::obs_rate]\n",
    "index_truth = range(len(t_truth))\n",
    "\n",
    "mu_pert = 0\n",
    "sigma_pert = 1.5\n",
    "\n",
    "# Dataset to test method\n",
    "# x_dataset = np.loadtxt('obs_l96_40_100000.txt')\n",
    "\n",
    "# Observations\n",
    "r_eps = np.sqrt(1)\n",
    "mu_pert = 0\n",
    "pert_obs = np.random.normal(mu_pert, r_eps, [ len(t_obs), int(n_x/obs_den)])\n",
    "\n",
    "#n_obs = 2\n",
    "# NOTE: @Hamed -->modify from here\n",
    "x_obset = np.ones((len(t_obs), n_x+2)) * -999\n",
    "x_obset[:, 0] = t_obs\n",
    "x_obset[:,1] = index_truth[::obs_rate]\n",
    "x_obset[:, 2::obs_den] = np.transpose(X_truth[::obs_den,::obs_rate]) + pert_obs\n",
    "\n",
    "# t_first_da = 10\n",
    "# n_obs = np.count_nonzero(x_obset[t_first_da, 1:] > -999)\n",
    "\n",
    "# r_eps = 0.3"
   ]
  },
  {
   "cell_type": "code",
   "execution_count": 9,
   "id": "e514f90f",
   "metadata": {},
   "outputs": [
    {
     "data": {
      "text/plain": [
       "(10, 6000)"
      ]
     },
     "execution_count": 9,
     "metadata": {},
     "output_type": "execute_result"
    }
   ],
   "source": [
    "X_truth.shape"
   ]
  },
  {
   "cell_type": "code",
   "execution_count": 10,
   "id": "a49f69fe",
   "metadata": {},
   "outputs": [
    {
     "data": {
      "text/plain": [
       "59.99999999999663"
      ]
     },
     "execution_count": 10,
     "metadata": {},
     "output_type": "execute_result"
    }
   ],
   "source": [
    "t_truth[-1]"
   ]
  },
  {
   "cell_type": "code",
   "execution_count": null,
   "id": "28cca183",
   "metadata": {},
   "outputs": [
    {
     "data": {
      "text/plain": [
       "<matplotlib.contour.QuadContourSet at 0x7f480a2f9e80>"
      ]
     },
     "execution_count": 11,
     "metadata": {},
     "output_type": "execute_result"
    }
   ],
   "source": [
    "fig=plt.figure(figsize=(20,10))\n",
    "x=t_obs\n",
    "y=range(n_x)\n",
    "X,Y = np.meshgrid(x,y)\n",
    "#plt.pcolor(X,Y,np.transpose(x_obset[:,2:]),cmap='seismic')\n",
    "plt.contourf(X,Y,np.transpose(x_obset[:,2:]),cmap='seismic')"
   ]
  },
  {
   "cell_type": "code",
   "execution_count": null,
   "id": "26e7a082",
   "metadata": {},
   "outputs": [],
   "source": [
    "#-----------------------------------------\n",
    "# Ensemble Kalman FIlter\n",
    "#-----------------------------------------\n",
    "\n",
    "n_mem=100;                  # N - Ensemble size\n",
    "                            # Bandwith hyperparameter5\n",
    "\n",
    "ctlmean = X_truth[:, 0] + np.random.multivariate_normal(np.zeros(n_x), np.eye(n_x)).T\n",
    "\n",
    "# initial condition\n",
    "n_t=len(t_truth)\n",
    "X_t = np.zeros((n_x, n_mem, n_t))\n",
    "Q = 2 * np.eye(n_x)            # background error covariance (only for the initial perturbation)\n",
    "Q_inv = np.linalg.inv(Q)\n",
    "X_t[:,:,0] = np.random.multivariate_normal(ctlmean, Q, n_mem).T\n",
    "\n",
    "X_0 = np.loadtxt('prior_l96_40_100_particles.txt')\n",
    "# X_t[:,:,0] = X_0.copy()\n",
    "\n",
    "t_first_da = int(warm_nt/obs_rate)+1 # index first assimilation \n",
    "n_obs = np.sum(x_obset[t_first_da, 2:] > -999)\n",
    "\n",
    "t = warm_nt+1\n",
    "# We will assimilate this number of steps\n",
    "# t_assim < len(t_truth)-obsrate \n",
    "t_assim = len(t_truth)-500\n",
    "\n",
    "for k in range(warm_nt):\n",
    "    X_t[:,:,k+1] = L96_RK4_ensemble(X_t[:,:,k], tstep, F)"
   ]
  },
  {
   "cell_type": "code",
   "execution_count": null,
   "id": "a3071982",
   "metadata": {},
   "outputs": [],
   "source": [
    "plt.pcolor(X_t[:,0,:])"
   ]
  },
  {
   "cell_type": "code",
   "execution_count": null,
   "id": "d3623428",
   "metadata": {},
   "outputs": [],
   "source": [
    "warm_nt"
   ]
  },
  {
   "cell_type": "code",
   "execution_count": null,
   "id": "bc13b33c",
   "metadata": {},
   "outputs": [],
   "source": [
    "# Test forward modelling ensemble\n",
    "# n_t=4000\n",
    "# for t in range(warm_nt + n_t - 1):\n",
    "#     X_t[:,:,t+1] = L96_RK4_ensemble(X_t[:,:,t], tstep, F)\n",
    "# plt.pcolor(X_t[:,0,:])"
   ]
  },
  {
   "cell_type": "code",
   "execution_count": null,
   "id": "c7f4cb01",
   "metadata": {},
   "outputs": [],
   "source": [
    "t_first_da"
   ]
  },
  {
   "cell_type": "code",
   "execution_count": null,
   "id": "e2542330",
   "metadata": {},
   "outputs": [],
   "source": [
    "int(np.ceil(t_obs[t_first_da]/tstep))"
   ]
  },
  {
   "cell_type": "code",
   "execution_count": null,
   "id": "9144702b",
   "metadata": {},
   "outputs": [],
   "source": [
    "d = t_first_da\n",
    "\n",
    "# K_gain_t = np.zeros((n_x, n_x, len(t_obs)))\n",
    "\n",
    "# n_t=len(t_truth)-warm_nt-1\n",
    "\n",
    "while t*tstep < t_assim*tstep:\n",
    "    \n",
    "    t_analysis = int(np.ceil(t_obs[d]/tstep))\n",
    "  \n",
    "    # I need to start in k-1 beacause of the index system of python\n",
    "    # We need to stop in t_analysis because of the index system of python\n",
    "    for k in range(t, t_analysis,1):\n",
    "        X_t[:,:,k] = L96_RK4_ensemble(X_t[:,:,k-1], tstep, F)\n",
    "   \n",
    "    t = t_analysis\n",
    "\n",
    "    # Observations\n",
    "    y_t = np.zeros((n_obs, 1))\n",
    "    index_obs = np.where(x_obset[d, 2:] > -999)[0] # Experiment specific\n",
    "    #y_t[:, 0] = x_obset[d, 2:] # Experiment specific\n",
    "    y_t[:, 0] = x_obset[d, 2:][index_obs] # Experiment specific\n",
    "\n",
    "    # Ensemble Kalman Filter part of the method\n",
    "    # We need to access t-1 because of the inx system of python\n",
    "    post_enkf = enkf(n_mem, n_x, X_t[:, :, t-1], y_t, r_eps)\n",
    "\n",
    "    X_ens_mean=post_enkf['mean_post']\n",
    "    X_ens=post_enkf['post_matrix']\n",
    "    P_ens=post_enkf['cov_post']\n",
    "#     K_gain_t[:, :, d]=post_enkf['kalman_gain']\n",
    "     # We need to access t-1 because of the inx system of python\n",
    "    X_t[:, :, t-1] = X_ens.copy()\n",
    "    P_t = P_ens   \n",
    "    \n",
    "    d += 1\n",
    "    \n",
    "print('Finished with the estimation')"
   ]
  },
  {
   "cell_type": "code",
   "execution_count": null,
   "id": "e50dac9c",
   "metadata": {},
   "outputs": [],
   "source": [
    "plt.pcolor(X_t[:,0,:])"
   ]
  },
  {
   "cell_type": "code",
   "execution_count": null,
   "id": "72033ef0",
   "metadata": {},
   "outputs": [],
   "source": [
    "index_variable=0\n",
    "fig=plt.figure(figsize=(20,10))\n",
    "for i in range(n_mem):\n",
    "    plt.plot(t_truth,X_t[index_variable,i,:],color='lightgray',alpha=0.3)\n",
    "plt.plot(t_truth,X_truth[index_variable,:],color='k')\n",
    "plt.plot(t_truth,np.mean(X_t[index_variable,:,:],axis=0),color='g')\n",
    "plt.scatter(t_obs,x_obset[:,index_variable+2],color='r',s=20)\n",
    "# plt.xlim(0,1000)"
   ]
  },
  {
   "cell_type": "markdown",
   "id": "1f67c47c",
   "metadata": {},
   "source": [
    "# RMSE"
   ]
  },
  {
   "cell_type": "code",
   "execution_count": null,
   "id": "8b706f29",
   "metadata": {},
   "outputs": [],
   "source": [
    "#\n",
    "#  RMSE CALCULATION\n",
    "#\n",
    "\n",
    "X_t_mean=np.mean(X_t,axis=1)\n",
    "print(X_t_mean.shape)\n",
    "\n",
    "error_x_t=np.zeros((n_x,len(t_truth)))\n",
    "for i in range(n_x):\n",
    "    error_x_t[i,:]=(X_t_mean[i,:]-X_truth[i,:])**2\n",
    "    \n",
    "rmse_x_t=np.sqrt((1/n_x)*np.sum(error_x_t,axis=0))"
   ]
  },
  {
   "cell_type": "code",
   "execution_count": null,
   "id": "cc8b7fd0",
   "metadata": {},
   "outputs": [],
   "source": [
    "fig=plt.figure(figsize=(20,10))\n",
    "plt.plot(t_truth,rmse_x_t)\n",
    "plt.vlines(x=10,ymin=0,ymax=1,label='start data assimilation',color='r')\n",
    "plt.xlim(10,59)\n",
    "plt.xlabel('Time',fontsize=20,fontweight='bold')\n",
    "plt.ylabel('RMSE',fontsize=20,fontweight='bold')"
   ]
  },
  {
   "cell_type": "code",
   "execution_count": null,
   "id": "99839a64",
   "metadata": {},
   "outputs": [],
   "source": [
    "# SAVE FILES\n",
    "n_run_exp='07'\n",
    "\n",
    "filename='./results_rmse/rmse_l96_periodic_obs_freq_07_run_'+n_run_exp+'.txt'\n",
    "results_rmse=np.zeros((len(t_truth),2))\n",
    "results_rmse[:,0]=t_truth[:]\n",
    "results_rmse[:,1]=rmse_x_t[:]\n",
    "\n",
    "np.savetxt(filename,results_rmse)"
   ]
  },
  {
   "cell_type": "markdown",
   "id": "a2cfd27c",
   "metadata": {},
   "source": [
    "# Covariance matrix analysis"
   ]
  },
  {
   "cell_type": "code",
   "execution_count": null,
   "id": "2d66fe79",
   "metadata": {},
   "outputs": [],
   "source": [
    "B_analysis=np.cov(X_t[:,:,3000])\n",
    "plt.pcolor(B_analysis)\n",
    "plt.colorbar()"
   ]
  },
  {
   "cell_type": "code",
   "execution_count": null,
   "id": "46d47ace",
   "metadata": {},
   "outputs": [],
   "source": [
    "r_influ=4\n",
    "tmp = np.zeros((n_x, n_x))\n",
    "for i in range(1, 3*r_influ+1):\n",
    "    tmp += np.diag(np.ones(n_x-i), i) + np.diag(np.ones(n_x-i), -i) + \\\n",
    "           np.diag(np.ones(i),n_x-i) + np.diag(np.ones(i), -(n_x-i))\n",
    "    tmp *= np.exp(-i**2 / r_influ**2)\n",
    "mask = tmp + np.diag(np.ones(n_x))\n",
    "plt.pcolor(mask)\n",
    "plt.colorbar()\n",
    "B_analysis_loc=np.multiply(B_analysis,mask)\n",
    "plt.pcolor(B_analysis_loc)"
   ]
  },
  {
   "cell_type": "code",
   "execution_count": null,
   "id": "19aecca1",
   "metadata": {},
   "outputs": [],
   "source": []
  },
  {
   "cell_type": "code",
   "execution_count": null,
   "id": "42d8f70e",
   "metadata": {},
   "outputs": [],
   "source": []
  }
 ],
 "metadata": {
  "kernelspec": {
   "display_name": "Python 3 (ipykernel)",
   "language": "python",
   "name": "python3"
  },
  "language_info": {
   "codemirror_mode": {
    "name": "ipython",
    "version": 3
   },
   "file_extension": ".py",
   "mimetype": "text/x-python",
   "name": "python",
   "nbconvert_exporter": "python",
   "pygments_lexer": "ipython3",
   "version": "3.9.13"
  }
 },
 "nbformat": 4,
 "nbformat_minor": 5
}
