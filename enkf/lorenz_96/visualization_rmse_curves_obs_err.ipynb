{
 "cells": [
  {
   "cell_type": "code",
   "execution_count": null,
   "id": "ff87a372",
   "metadata": {},
   "outputs": [],
   "source": [
    "import numpy as np\n",
    "import matplotlib.pylab as plt\n",
    "import matplotlib\n",
    "import os"
   ]
  },
  {
   "cell_type": "markdown",
   "id": "a0acb729",
   "metadata": {},
   "source": [
    "# ENKF"
   ]
  },
  {
   "cell_type": "markdown",
   "id": "0beb773a",
   "metadata": {},
   "source": [
    "# Periodic"
   ]
  },
  {
   "cell_type": "code",
   "execution_count": null,
   "id": "e3e08d68",
   "metadata": {},
   "outputs": [],
   "source": [
    "folder_periodic_enkf='/home/hamed/Data Assimilation Methods/enkf/lorenz_96/periodic_obs_err/results_rmse/'\n",
    "\n",
    "num_iter=10\n",
    "num_tsteps=6000\n",
    "\n",
    "obs_err_periodic_01=1\n",
    "obs_err_periodic_02=2\n",
    "obs_err_periodic_03=3\n",
    "obs_err_periodic_04=4\n",
    "obs_err_periodic_05=5\n",
    "obs_err_periodic_06=6\n",
    "obs_err_periodic_07=7\n",
    "\n",
    "rmse_l96_periodic_obs_err_01=np.zeros((num_tsteps,2,num_iter))\n",
    "rmse_l96_periodic_obs_err_02=np.zeros((num_tsteps,2,num_iter))\n",
    "rmse_l96_periodic_obs_err_03=np.zeros((num_tsteps,2,num_iter))\n",
    "rmse_l96_periodic_obs_err_04=np.zeros((num_tsteps,2,num_iter))\n",
    "rmse_l96_periodic_obs_err_05=np.zeros((num_tsteps,2,num_iter))\n",
    "rmse_l96_periodic_obs_err_06=np.zeros((num_tsteps,2,num_iter))\n",
    "rmse_l96_periodic_obs_err_07=np.zeros((num_tsteps,2,num_iter))\n",
    "\n",
    "for i in range(num_iter):\n",
    "    \n",
    "    filename_periodic_enkf_obs_err_01=os.path.join(folder_periodic_enkf,'rmse_l96_periodic_obs_err_'+str(obs_err_periodic_01).zfill(2)+'_run_'+str(i+1).zfill(2)+'.txt')\n",
    "    filename_periodic_enkf_obs_err_02=os.path.join(folder_periodic_enkf,'rmse_l96_periodic_obs_err_'+str(obs_err_periodic_02).zfill(2)+'_run_'+str(i+1).zfill(2)+'.txt')\n",
    "    filename_periodic_enkf_obs_err_03=os.path.join(folder_periodic_enkf,'rmse_l96_periodic_obs_err_'+str(obs_err_periodic_03).zfill(2)+'_run_'+str(i+1).zfill(2)+'.txt')\n",
    "    filename_periodic_enkf_obs_err_04=os.path.join(folder_periodic_enkf,'rmse_l96_periodic_obs_err_'+str(obs_err_periodic_04).zfill(2)+'_run_'+str(i+1).zfill(2)+'.txt')\n",
    "    filename_periodic_enkf_obs_err_05=os.path.join(folder_periodic_enkf,'rmse_l96_periodic_obs_err_'+str(obs_err_periodic_05).zfill(2)+'_run_'+str(i+1).zfill(2)+'.txt')\n",
    "    filename_periodic_enkf_obs_err_06=os.path.join(folder_periodic_enkf,'rmse_l96_periodic_obs_err_'+str(obs_err_periodic_06).zfill(2)+'_run_'+str(i+1).zfill(2)+'.txt')\n",
    "    filename_periodic_enkf_obs_err_07=os.path.join(folder_periodic_enkf,'rmse_l96_periodic_obs_err_'+str(obs_err_periodic_07).zfill(2)+'_run_'+str(i+1).zfill(2)+'.txt')\n",
    "    \n",
    "    rmse_l96_periodic_obs_err_01[:,:,i]=np.genfromtxt(filename_periodic_enkf_obs_err_01)\n",
    "    rmse_l96_periodic_obs_err_02[:,:,i]=np.genfromtxt(filename_periodic_enkf_obs_err_02)\n",
    "    rmse_l96_periodic_obs_err_03[:,:,i]=np.genfromtxt(filename_periodic_enkf_obs_err_03)\n",
    "    rmse_l96_periodic_obs_err_04[:,:,i]=np.genfromtxt(filename_periodic_enkf_obs_err_04)\n",
    "    rmse_l96_periodic_obs_err_05[:,:,i]=np.genfromtxt(filename_periodic_enkf_obs_err_05)\n",
    "    rmse_l96_periodic_obs_err_06[:,:,i]=np.genfromtxt(filename_periodic_enkf_obs_err_06)\n",
    "    rmse_l96_periodic_obs_err_07[:,:,i]=np.genfromtxt(filename_periodic_enkf_obs_err_07)\n",
    "    \n",
    "    \n",
    "#     rmse_l96_periodic_obs_err_01.append(rmse_l96_periodic_01)\n",
    "#     rmse_l96_periodic_obs_err_02.append(rmse_l96_periodic_02)\n",
    "#     rmse_l96_periodic_obs_err_05.append(rmse_l96_periodic_05)"
   ]
  }
 ],
 "metadata": {
  "kernelspec": {
   "display_name": "Python 3 (ipykernel)",
   "language": "python",
   "name": "python3"
  },
  "language_info": {
   "codemirror_mode": {
    "name": "ipython",
    "version": 3
   },
   "file_extension": ".py",
   "mimetype": "text/x-python",
   "name": "python",
   "nbconvert_exporter": "python",
   "pygments_lexer": "ipython3",
   "version": "3.9.13"
  }
 },
 "nbformat": 4,
 "nbformat_minor": 5
}
